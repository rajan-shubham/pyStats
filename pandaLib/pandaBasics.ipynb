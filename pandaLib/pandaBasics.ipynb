{
 "cells": [
  {
   "cell_type": "code",
   "execution_count": 1,
   "id": "073450d0-3b15-4f84-8223-8deb2ce2af8e",
   "metadata": {},
   "outputs": [],
   "source": [
    "import pandas as pd"
   ]
  },
  {
   "cell_type": "code",
   "execution_count": 2,
   "id": "4840c7f9-adee-4afc-aaf6-76279517987b",
   "metadata": {},
   "outputs": [
    {
     "name": "stdout",
     "output_type": "stream",
     "text": [
      "    Name  Age  Salary\n",
      "0   John   25   30000\n",
      "1  Peter   28   45000\n",
      "2   Lisa   31   25000\n"
     ]
    }
   ],
   "source": [
    "data = {\"Name\" : [\"John\", \"Peter\", \"Lisa\"],\n",
    "        \"Age\" : [25, 28, 31],\n",
    "        \"Salary\" : [30000, 45000, 25000]}\n",
    "\n",
    "df = pd.DataFrame(data)\n",
    "print(df)"
   ]
  },
  {
   "cell_type": "code",
   "execution_count": 22,
   "id": "af745ac8-4eb3-4e0b-a240-474bbe21f22c",
   "metadata": {},
   "outputs": [
    {
     "name": "stdout",
     "output_type": "stream",
     "text": [
      "         id                name      segment           state             city\n",
      "0  CG-12520         Claire Gute     Consumer        Kentucky        Henderson\n",
      "1  DV-13045     Darrin Van Huff    Corporate      California      Los Angeles\n",
      "2  SO-20335      Sean O'Donnell     Consumer         Florida  Fort Lauderdale\n",
      "3  BH-11710     Brosina Hoffman     Consumer      California      Los Angeles\n",
      "4  AA-10480        Andrew Allen     Consumer  North Carolina          Concord\n",
      "5  IM-15070        Irene Maddox     Consumer      Washington          Seattle\n",
      "6  HP-14815       Harold Pawlan  Home Office           Texas       Fort Worth\n",
      "7  PK-19075           Pete Kriz     Consumer       Wisconsin          Madison\n",
      "8  AG-10270     Alejandro Grove     Consumer            Utah      West Jordan\n",
      "9  ZD-21925  Zuschuss Donatelli     Consumer      California    San Francisco\n",
      "           id               name      segment         state               city\n",
      "788  CJ-11875       Carl Jackson    Corporate  Pennsylvania       Philadelphia\n",
      "789  RS-19870         Roy Skaria  Home Office          Iowa         Burlington\n",
      "790  SC-20845         Sung Chung     Consumer      Illinois  Arlington Heights\n",
      "791  RE-19405    Ricardo Emerson     Consumer          Ohio               Kent\n",
      "792  SM-20905  Susan MacKendrick     Consumer          Ohio             Newark\n"
     ]
    }
   ],
   "source": [
    "data = pd.read_csv(\"/Users/rajan/github/shuPython/pandaLib/customers.csv\")\n",
    "print(data.head(10))\n",
    "print(data.tail())"
   ]
  },
  {
   "cell_type": "code",
   "execution_count": 7,
   "id": "68b0e1f4-98c8-4bcf-9e24-9cf60c3a687f",
   "metadata": {},
   "outputs": [
    {
     "name": "stdout",
     "output_type": "stream",
     "text": [
      "<class 'pandas.core.frame.DataFrame'>\n",
      "RangeIndex: 793 entries, 0 to 792\n",
      "Data columns (total 5 columns):\n",
      " #   Column   Non-Null Count  Dtype \n",
      "---  ------   --------------  ----- \n",
      " 0   id       793 non-null    object\n",
      " 1   name     793 non-null    object\n",
      " 2   segment  793 non-null    object\n",
      " 3   state    793 non-null    object\n",
      " 4   city     793 non-null    object\n",
      "dtypes: object(5)\n",
      "memory usage: 31.1+ KB\n",
      "None\n"
     ]
    }
   ],
   "source": [
    "print(data.info())"
   ]
  },
  {
   "cell_type": "code",
   "execution_count": 11,
   "id": "490c3142-9c78-4cd3-94d4-c897d6f683f2",
   "metadata": {},
   "outputs": [
    {
     "name": "stdout",
     "output_type": "stream",
     "text": [
      "              id         name   segment       state           city\n",
      "count        793          793       793         793            793\n",
      "unique       793          793         3          41            252\n",
      "top     CG-12520  Claire Gute  Consumer  California  New York City\n",
      "freq           1            1       409         161             68\n"
     ]
    }
   ],
   "source": [
    "print(data.describe())"
   ]
  },
  {
   "cell_type": "code",
   "execution_count": 10,
   "id": "56041147-e0d0-493a-b5c0-10071c5fa4ae",
   "metadata": {},
   "outputs": [
    {
     "name": "stdout",
     "output_type": "stream",
     "text": [
      "id         0\n",
      "name       0\n",
      "segment    0\n",
      "state      0\n",
      "city       0\n",
      "dtype: int64\n"
     ]
    }
   ],
   "source": [
    "print(data.isnull().sum())"
   ]
  },
  {
   "cell_type": "code",
   "execution_count": 12,
   "id": "8c6aff64-8a88-4454-acef-edd80d3ca4a2",
   "metadata": {},
   "outputs": [
    {
     "name": "stdout",
     "output_type": "stream",
     "text": [
      "   Age Attrition     BusinessTravel  DailyRate              Department  \\\n",
      "0   41       Yes      Travel_Rarely       1102                   Sales   \n",
      "1   49        No  Travel_Frequently        279  Research & Development   \n",
      "2   37       Yes      Travel_Rarely       1373  Research & Development   \n",
      "3   33        No  Travel_Frequently       1392  Research & Development   \n",
      "4   27        No      Travel_Rarely        591  Research & Development   \n",
      "\n",
      "   DistanceFromHome  Education EducationField  EmployeeCount  EmployeeNumber  \\\n",
      "0                 1          2  Life Sciences              1               1   \n",
      "1                 8          1  Life Sciences              1               2   \n",
      "2                 2          2          Other              1               4   \n",
      "3                 3          4  Life Sciences              1               5   \n",
      "4                 2          1        Medical              1               7   \n",
      "\n",
      "   ...  RelationshipSatisfaction StandardHours  StockOptionLevel  \\\n",
      "0  ...                         1            80                 0   \n",
      "1  ...                         4            80                 1   \n",
      "2  ...                         2            80                 0   \n",
      "3  ...                         3            80                 0   \n",
      "4  ...                         4            80                 1   \n",
      "\n",
      "   TotalWorkingYears  TrainingTimesLastYear WorkLifeBalance  YearsAtCompany  \\\n",
      "0                  8                      0               1               6   \n",
      "1                 10                      3               3              10   \n",
      "2                  7                      3               3               0   \n",
      "3                  8                      3               3               8   \n",
      "4                  6                      3               3               2   \n",
      "\n",
      "  YearsInCurrentRole  YearsSinceLastPromotion  YearsWithCurrManager  \n",
      "0                  4                        0                     5  \n",
      "1                  7                        1                     7  \n",
      "2                  0                        0                     0  \n",
      "3                  7                        3                     0  \n",
      "4                  2                        2                     2  \n",
      "\n",
      "[5 rows x 35 columns]\n"
     ]
    }
   ],
   "source": [
    "df = pd.read_csv(\"/Users/rajan/github/shuPython/pandaLib/WA_Fn-UseC_-HR-Employee-Attrition.csv\")\n",
    "print(df.head())"
   ]
  },
  {
   "cell_type": "code",
   "execution_count": 16,
   "id": "0b1ab542-622d-4c24-9e4c-9b6ef4337bff",
   "metadata": {},
   "outputs": [
    {
     "name": "stdout",
     "output_type": "stream",
     "text": [
      "data frame INFORMATION ______________________\n",
      "<class 'pandas.core.frame.DataFrame'>\n",
      "RangeIndex: 1470 entries, 0 to 1469\n",
      "Data columns (total 35 columns):\n",
      " #   Column                    Non-Null Count  Dtype \n",
      "---  ------                    --------------  ----- \n",
      " 0   Age                       1470 non-null   int64 \n",
      " 1   Attrition                 1470 non-null   object\n",
      " 2   BusinessTravel            1470 non-null   object\n",
      " 3   DailyRate                 1470 non-null   int64 \n",
      " 4   Department                1470 non-null   object\n",
      " 5   DistanceFromHome          1470 non-null   int64 \n",
      " 6   Education                 1470 non-null   int64 \n",
      " 7   EducationField            1470 non-null   object\n",
      " 8   EmployeeCount             1470 non-null   int64 \n",
      " 9   EmployeeNumber            1470 non-null   int64 \n",
      " 10  EnvironmentSatisfaction   1470 non-null   int64 \n",
      " 11  Gender                    1470 non-null   object\n",
      " 12  HourlyRate                1470 non-null   int64 \n",
      " 13  JobInvolvement            1470 non-null   int64 \n",
      " 14  JobLevel                  1470 non-null   int64 \n",
      " 15  JobRole                   1470 non-null   object\n",
      " 16  JobSatisfaction           1470 non-null   int64 \n",
      " 17  MaritalStatus             1470 non-null   object\n",
      " 18  MonthlyIncome             1470 non-null   int64 \n",
      " 19  MonthlyRate               1470 non-null   int64 \n",
      " 20  NumCompaniesWorked        1470 non-null   int64 \n",
      " 21  Over18                    1470 non-null   object\n",
      " 22  OverTime                  1470 non-null   object\n",
      " 23  PercentSalaryHike         1470 non-null   int64 \n",
      " 24  PerformanceRating         1470 non-null   int64 \n",
      " 25  RelationshipSatisfaction  1470 non-null   int64 \n",
      " 26  StandardHours             1470 non-null   int64 \n",
      " 27  StockOptionLevel          1470 non-null   int64 \n",
      " 28  TotalWorkingYears         1470 non-null   int64 \n",
      " 29  TrainingTimesLastYear     1470 non-null   int64 \n",
      " 30  WorkLifeBalance           1470 non-null   int64 \n",
      " 31  YearsAtCompany            1470 non-null   int64 \n",
      " 32  YearsInCurrentRole        1470 non-null   int64 \n",
      " 33  YearsSinceLastPromotion   1470 non-null   int64 \n",
      " 34  YearsWithCurrManager      1470 non-null   int64 \n",
      "dtypes: int64(26), object(9)\n",
      "memory usage: 402.1+ KB\n",
      "None\n",
      "data frame DESCRIPTION ______________________\n",
      "               Age    DailyRate  DistanceFromHome    Education  EmployeeCount  \\\n",
      "count  1470.000000  1470.000000       1470.000000  1470.000000         1470.0   \n",
      "mean     36.923810   802.485714          9.192517     2.912925            1.0   \n",
      "std       9.135373   403.509100          8.106864     1.024165            0.0   \n",
      "min      18.000000   102.000000          1.000000     1.000000            1.0   \n",
      "25%      30.000000   465.000000          2.000000     2.000000            1.0   \n",
      "50%      36.000000   802.000000          7.000000     3.000000            1.0   \n",
      "75%      43.000000  1157.000000         14.000000     4.000000            1.0   \n",
      "max      60.000000  1499.000000         29.000000     5.000000            1.0   \n",
      "\n",
      "       EmployeeNumber  EnvironmentSatisfaction   HourlyRate  JobInvolvement  \\\n",
      "count     1470.000000              1470.000000  1470.000000     1470.000000   \n",
      "mean      1024.865306                 2.721769    65.891156        2.729932   \n",
      "std        602.024335                 1.093082    20.329428        0.711561   \n",
      "min          1.000000                 1.000000    30.000000        1.000000   \n",
      "25%        491.250000                 2.000000    48.000000        2.000000   \n",
      "50%       1020.500000                 3.000000    66.000000        3.000000   \n",
      "75%       1555.750000                 4.000000    83.750000        3.000000   \n",
      "max       2068.000000                 4.000000   100.000000        4.000000   \n",
      "\n",
      "          JobLevel  ...  RelationshipSatisfaction  StandardHours  \\\n",
      "count  1470.000000  ...               1470.000000         1470.0   \n",
      "mean      2.063946  ...                  2.712245           80.0   \n",
      "std       1.106940  ...                  1.081209            0.0   \n",
      "min       1.000000  ...                  1.000000           80.0   \n",
      "25%       1.000000  ...                  2.000000           80.0   \n",
      "50%       2.000000  ...                  3.000000           80.0   \n",
      "75%       3.000000  ...                  4.000000           80.0   \n",
      "max       5.000000  ...                  4.000000           80.0   \n",
      "\n",
      "       StockOptionLevel  TotalWorkingYears  TrainingTimesLastYear  \\\n",
      "count       1470.000000        1470.000000            1470.000000   \n",
      "mean           0.793878          11.279592               2.799320   \n",
      "std            0.852077           7.780782               1.289271   \n",
      "min            0.000000           0.000000               0.000000   \n",
      "25%            0.000000           6.000000               2.000000   \n",
      "50%            1.000000          10.000000               3.000000   \n",
      "75%            1.000000          15.000000               3.000000   \n",
      "max            3.000000          40.000000               6.000000   \n",
      "\n",
      "       WorkLifeBalance  YearsAtCompany  YearsInCurrentRole  \\\n",
      "count      1470.000000     1470.000000         1470.000000   \n",
      "mean          2.761224        7.008163            4.229252   \n",
      "std           0.706476        6.126525            3.623137   \n",
      "min           1.000000        0.000000            0.000000   \n",
      "25%           2.000000        3.000000            2.000000   \n",
      "50%           3.000000        5.000000            3.000000   \n",
      "75%           3.000000        9.000000            7.000000   \n",
      "max           4.000000       40.000000           18.000000   \n",
      "\n",
      "       YearsSinceLastPromotion  YearsWithCurrManager  \n",
      "count              1470.000000           1470.000000  \n",
      "mean                  2.187755              4.123129  \n",
      "std                   3.222430              3.568136  \n",
      "min                   0.000000              0.000000  \n",
      "25%                   0.000000              2.000000  \n",
      "50%                   1.000000              3.000000  \n",
      "75%                   3.000000              7.000000  \n",
      "max                  15.000000             17.000000  \n",
      "\n",
      "[8 rows x 26 columns]\n",
      "data frame CLOUMN NULL CONTENT ______________\n",
      "Age                         0\n",
      "Attrition                   0\n",
      "BusinessTravel              0\n",
      "DailyRate                   0\n",
      "Department                  0\n",
      "DistanceFromHome            0\n",
      "Education                   0\n",
      "EducationField              0\n",
      "EmployeeCount               0\n",
      "EmployeeNumber              0\n",
      "EnvironmentSatisfaction     0\n",
      "Gender                      0\n",
      "HourlyRate                  0\n",
      "JobInvolvement              0\n",
      "JobLevel                    0\n",
      "JobRole                     0\n",
      "JobSatisfaction             0\n",
      "MaritalStatus               0\n",
      "MonthlyIncome               0\n",
      "MonthlyRate                 0\n",
      "NumCompaniesWorked          0\n",
      "Over18                      0\n",
      "OverTime                    0\n",
      "PercentSalaryHike           0\n",
      "PerformanceRating           0\n",
      "RelationshipSatisfaction    0\n",
      "StandardHours               0\n",
      "StockOptionLevel            0\n",
      "TotalWorkingYears           0\n",
      "TrainingTimesLastYear       0\n",
      "WorkLifeBalance             0\n",
      "YearsAtCompany              0\n",
      "YearsInCurrentRole          0\n",
      "YearsSinceLastPromotion     0\n",
      "YearsWithCurrManager        0\n",
      "dtype: int64\n"
     ]
    }
   ],
   "source": [
    "# gathering knowledge about out data and dataset\n",
    "print(\"data frame INFORMATION ______________________\")\n",
    "print(df.info())\n",
    "print(\"data frame DESCRIPTION ______________________\")\n",
    "print(df.describe())\n",
    "print(\"data frame CLOUMN NULL CONTENT ______________\")\n",
    "print(df.isnull().sum())"
   ]
  },
  {
   "cell_type": "code",
   "execution_count": 20,
   "id": "f0c7295b-a4a1-4a46-b989-0da5cfaac5de",
   "metadata": {},
   "outputs": [
    {
     "name": "stdout",
     "output_type": "stream",
     "text": [
      "0\n"
     ]
    }
   ],
   "source": [
    "print(df[\"EmployeeNumber\"].duplicated().sum())"
   ]
  },
  {
   "cell_type": "code",
   "execution_count": 24,
   "id": "ef0a05e9-8013-457e-98a3-69319754e1ad",
   "metadata": {},
   "outputs": [
    {
     "name": "stdout",
     "output_type": "stream",
     "text": [
      "0\n"
     ]
    }
   ],
   "source": [
    "print(data[\"id\"].duplicated().sum())"
   ]
  },
  {
   "cell_type": "code",
   "execution_count": 4,
   "id": "b5588736-7b3c-4c5d-bdbc-2692d974e09c",
   "metadata": {},
   "outputs": [
    {
     "name": "stdout",
     "output_type": "stream",
     "text": [
      "      Age Attrition     BusinessTravel  DailyRate              Department  \\\n",
      "0      41       Yes      Travel_Rarely       1102                   Sales   \n",
      "1      49        No  Travel_Frequently        279  Research & Development   \n",
      "2      37       Yes      Travel_Rarely       1373  Research & Development   \n",
      "3      33        No  Travel_Frequently       1392  Research & Development   \n",
      "4      27        No      Travel_Rarely        591  Research & Development   \n",
      "...   ...       ...                ...        ...                     ...   \n",
      "1465   36        No  Travel_Frequently        884  Research & Development   \n",
      "1466   39        No      Travel_Rarely        613  Research & Development   \n",
      "1467   27        No      Travel_Rarely        155  Research & Development   \n",
      "1468   49        No  Travel_Frequently       1023                   Sales   \n",
      "1469   34        No      Travel_Rarely        628  Research & Development   \n",
      "\n",
      "      DistanceFromHome  Education EducationField  EmployeeCount  \\\n",
      "0                    1          2  Life Sciences              1   \n",
      "1                    8          1  Life Sciences              1   \n",
      "2                    2          2          Other              1   \n",
      "3                    3          4  Life Sciences              1   \n",
      "4                    2          1        Medical              1   \n",
      "...                ...        ...            ...            ...   \n",
      "1465                23          2        Medical              1   \n",
      "1466                 6          1        Medical              1   \n",
      "1467                 4          3  Life Sciences              1   \n",
      "1468                 2          3        Medical              1   \n",
      "1469                 8          3        Medical              1   \n",
      "\n",
      "      EmployeeNumber  ...  RelationshipSatisfaction StandardHours  \\\n",
      "0                  1  ...                         1            80   \n",
      "1                  2  ...                         4            80   \n",
      "2                  4  ...                         2            80   \n",
      "3                  5  ...                         3            80   \n",
      "4                  7  ...                         4            80   \n",
      "...              ...  ...                       ...           ...   \n",
      "1465            2061  ...                         3            80   \n",
      "1466            2062  ...                         1            80   \n",
      "1467            2064  ...                         2            80   \n",
      "1468            2065  ...                         4            80   \n",
      "1469            2068  ...                         1            80   \n",
      "\n",
      "      StockOptionLevel  TotalWorkingYears  TrainingTimesLastYear  \\\n",
      "0                    0                  8                      0   \n",
      "1                    1                 10                      3   \n",
      "2                    0                  7                      3   \n",
      "3                    0                  8                      3   \n",
      "4                    1                  6                      3   \n",
      "...                ...                ...                    ...   \n",
      "1465                 1                 17                      3   \n",
      "1466                 1                  9                      5   \n",
      "1467                 1                  6                      0   \n",
      "1468                 0                 17                      3   \n",
      "1469                 0                  6                      3   \n",
      "\n",
      "     WorkLifeBalance  YearsAtCompany YearsInCurrentRole  \\\n",
      "0                  1               6                  4   \n",
      "1                  3              10                  7   \n",
      "2                  3               0                  0   \n",
      "3                  3               8                  7   \n",
      "4                  3               2                  2   \n",
      "...              ...             ...                ...   \n",
      "1465               3               5                  2   \n",
      "1466               3               7                  7   \n",
      "1467               3               6                  2   \n",
      "1468               2               9                  6   \n",
      "1469               4               4                  3   \n",
      "\n",
      "      YearsSinceLastPromotion  YearsWithCurrManager  \n",
      "0                           0                     5  \n",
      "1                           1                     7  \n",
      "2                           0                     0  \n",
      "3                           3                     0  \n",
      "4                           2                     2  \n",
      "...                       ...                   ...  \n",
      "1465                        0                     3  \n",
      "1466                        1                     7  \n",
      "1467                        0                     3  \n",
      "1468                        0                     8  \n",
      "1469                        1                     2  \n",
      "\n",
      "[1470 rows x 35 columns]\n"
     ]
    }
   ],
   "source": [
    "import pandas as pd\n",
    "df = pd.read_csv(\"/Users/rajan/github/shuPython/pandaLib/WA_Fn-UseC_-HR-Employee-Attrition.csv\")\n",
    "print(df.drop_duplicates(\"EmployeeNumber\"))"
   ]
  },
  {
   "cell_type": "code",
   "execution_count": 1,
   "id": "1818b4e8-5956-4be2-b908-fb03d20c263e",
   "metadata": {},
   "outputs": [],
   "source": [
    "# print(df.isnull().sum())\n",
    "# print(df.dropna())\n",
    "import numpy as np\n",
    "# print(df.replace(np.nan, somevalues))\n",
    "# df[\"salary\"] = data[\"salary\"].replace(np.nan, 30000)\n",
    "# print(data)"
   ]
  },
  {
   "cell_type": "code",
   "execution_count": 2,
   "id": "39f084fe-6dbc-4b4e-ad2b-fec891b0c647",
   "metadata": {},
   "outputs": [],
   "source": [
    "import pandas as pd\n",
    "df = pd.read_csv(\"/Users/rajan/github/shuPython/pandaLib/WA_Fn-UseC_-HR-Employee-Attrition.csv\")"
   ]
  },
  {
   "cell_type": "code",
   "execution_count": 4,
   "id": "b41bc83a-3f91-417d-a89d-31664b810149",
   "metadata": {
    "scrolled": true
   },
   "outputs": [
    {
     "name": "stdout",
     "output_type": "stream",
     "text": [
      "Age                         0\n",
      "Attrition                   0\n",
      "BusinessTravel              0\n",
      "DailyRate                   0\n",
      "Department                  0\n",
      "DistanceFromHome            0\n",
      "Education                   0\n",
      "EducationField              0\n",
      "EmployeeCount               0\n",
      "EmployeeNumber              0\n",
      "EnvironmentSatisfaction     0\n",
      "Gender                      0\n",
      "HourlyRate                  0\n",
      "JobInvolvement              0\n",
      "JobLevel                    0\n",
      "JobRole                     0\n",
      "JobSatisfaction             0\n",
      "MaritalStatus               0\n",
      "MonthlyIncome               0\n",
      "MonthlyRate                 0\n",
      "NumCompaniesWorked          0\n",
      "Over18                      0\n",
      "OverTime                    0\n",
      "PercentSalaryHike           0\n",
      "PerformanceRating           0\n",
      "RelationshipSatisfaction    0\n",
      "StandardHours               0\n",
      "StockOptionLevel            0\n",
      "TotalWorkingYears           0\n",
      "TrainingTimesLastYear       0\n",
      "WorkLifeBalance             0\n",
      "YearsAtCompany              0\n",
      "YearsInCurrentRole          0\n",
      "YearsSinceLastPromotion     0\n",
      "YearsWithCurrManager        0\n",
      "dtype: int64\n"
     ]
    }
   ],
   "source": [
    "print(df.isnull().sum())"
   ]
  },
  {
   "cell_type": "code",
   "execution_count": 3,
   "id": "8ae643af-7ce7-401e-8411-3522e071167d",
   "metadata": {},
   "outputs": [
    {
     "name": "stdout",
     "output_type": "stream",
     "text": [
      "6502.931292517007\n",
      "0       5993\n",
      "1       5130\n",
      "2       2090\n",
      "3       2909\n",
      "4       3468\n",
      "        ... \n",
      "1465    2571\n",
      "1466    9991\n",
      "1467    6142\n",
      "1468    5390\n",
      "1469    4404\n",
      "Name: MonthlyIncome, Length: 1470, dtype: int64\n"
     ]
    }
   ],
   "source": [
    "# to eleminate the null value we can't use directly print(df.dropna()) as \n",
    "# it affect the total count of employees that are working in the company \n",
    "# it delete the row wise data and affect the total count of data (as dropna() delete null valued whole row)\n",
    "# try to do df.replace()\n",
    "# df[\"salary\"] = df[\"salary\"].replace(np.nan, 30000)\n",
    "# print(df)\n",
    "# generally nan value is replaced with mean value of that column for ex\n",
    "meanSalary = df[\"MonthlyIncome\"].mean()\n",
    "print(meanSalary)\n",
    "# then use the mena salary to replace nan salaries\n",
    "print(df[\"MonthlyIncome\"])\n",
    "# or you can fill nan value to backward it's below value (when you have string name, male, position) like value\n",
    "# print(df.fillna(method=\"bfill\"))\n",
    "# print(df.fillna(method=\"ffill\"))"
   ]
  },
  {
   "cell_type": "code",
   "execution_count": 22,
   "id": "bbeafcc7-8546-48ea-8084-608f8987fc36",
   "metadata": {},
   "outputs": [
    {
     "name": "stdout",
     "output_type": "stream",
     "text": [
      "14.0\n",
      "15.209523809523809\n",
      "0    less salary hike\n",
      "1    more salary hike\n",
      "2    more salary hike\n",
      "3    less salary hike\n",
      "4    less salary hike\n",
      "Name: SalaryHike, dtype: object\n"
     ]
    }
   ],
   "source": [
    "import pandas as pd\n",
    "# column transformations\n",
    "print(df[\"PercentSalaryHike\"].median())\n",
    "print(df[\"PercentSalaryHike\"].mean())\n",
    "\n",
    "df.loc[(df[\"PercentSalaryHike\"] >= 14), \"SalaryHike\"] = \"more salary hike\"\n",
    "df.loc[(df[\"PercentSalaryHike\"] < 14), \"SalaryHike\"] = \"less salary hike\"\n",
    "print(df[\"SalaryHike\"].head(5))"
   ]
  },
  {
   "cell_type": "code",
   "execution_count": 28,
   "id": "41a0bc81-79ed-4dd6-9791-a2b300f2ee68",
   "metadata": {},
   "outputs": [
    {
     "name": "stdout",
     "output_type": "stream",
     "text": [
      "0         Henderson, Kentucky\n",
      "1     Los Angeles, California\n",
      "2    Fort Lauderdale, Florida\n",
      "3     Los Angeles, California\n",
      "4     Concord, North Carolina\n",
      "Name: Full Address, dtype: object\n",
      "<class 'pandas.core.frame.DataFrame'>\n",
      "RangeIndex: 793 entries, 0 to 792\n",
      "Data columns (total 6 columns):\n",
      " #   Column        Non-Null Count  Dtype \n",
      "---  ------        --------------  ----- \n",
      " 0   id            793 non-null    object\n",
      " 1   name          793 non-null    object\n",
      " 2   segment       793 non-null    object\n",
      " 3   state         793 non-null    object\n",
      " 4   city          793 non-null    object\n",
      " 5   Full Address  793 non-null    object\n",
      "dtypes: object(6)\n",
      "memory usage: 37.3+ KB\n",
      "None\n"
     ]
    }
   ],
   "source": [
    "# making one col out of 2 col as full name <-- firstName + lastName\n",
    "data = pd.read_csv(\"/Users/rajan/github/shuPython/pandaLib/customers.csv\")\n",
    "# fullAddress <-- city + state\n",
    "data[\"Full Address\"] = data[\"city\"] +\", \"+ data[\"state\"]\n",
    "print(data[\"Full Address\"].head())\n",
    "print(data.info())"
   ]
  },
  {
   "cell_type": "code",
   "execution_count": 33,
   "id": "41b916dd-774c-4091-a6e7-362b27bd172d",
   "metadata": {},
   "outputs": [
    {
     "name": "stdout",
     "output_type": "stream",
     "text": [
      "0    5993\n",
      "1    5130\n",
      "2    2090\n",
      "3    2909\n",
      "4    3468\n",
      "Name: MonthlyIncome, dtype: int64\n",
      "0    1198.6\n",
      "1    1026.0\n",
      "2     418.0\n",
      "3     581.8\n",
      "4     693.6\n",
      "Name: Bonus, dtype: float64\n"
     ]
    }
   ],
   "source": [
    "# finding how much a emp. get bonus by 10%\n",
    "print(df[\"MonthlyIncome\"].head())\n",
    "df[\"Bonus\"] = (df[\"MonthlyIncome\"]/100)*20\n",
    "print(df[\"Bonus\"].head())"
   ]
  },
  {
   "cell_type": "code",
   "execution_count": 36,
   "id": "7fa415dd-2480-47cb-9b7a-585761cedf8b",
   "metadata": {},
   "outputs": [
    {
     "name": "stdout",
     "output_type": "stream",
     "text": [
      "     Months\n",
      "0   January\n",
      "1  February\n",
      "2     March\n",
      "3     April\n",
      "     Months Short_months\n",
      "0   January          Jan\n",
      "1  February          Feb\n",
      "2     March          Mar\n",
      "3     April          Apr\n"
     ]
    }
   ],
   "source": [
    "data = {\"Months\":[\"January\", \"February\",\"March\",\"April\"]}\n",
    "a = pd.DataFrame(data)\n",
    "print(a)\n",
    "\n",
    "def extract(value):\n",
    "    return value[0:3]\n",
    "\n",
    "a[\"Short_months\"] = a[\"Months\"].map(extract)\n",
    "print(a)"
   ]
  },
  {
   "cell_type": "code",
   "execution_count": 52,
   "id": "4e52017c-f6bb-4488-8b66-13f6020a4cf7",
   "metadata": {},
   "outputs": [
    {
     "name": "stdout",
     "output_type": "stream",
     "text": [
      "                               EmployeeNumber\n",
      "Department             Gender                \n",
      "Human Resources        Female              20\n",
      "                       Male                43\n",
      "Research & Development Female             379\n",
      "                       Male               582\n",
      "Sales                  Female             189\n",
      "                       Male               257\n",
      "                                  EmployeeNumber\n",
      "JobRole                   Gender                \n",
      "Healthcare Representative Female              51\n",
      "                          Male                80\n",
      "Human Resources           Female              16\n",
      "                          Male                36\n",
      "Laboratory Technician     Female              85\n",
      "                          Male               174\n",
      "Manager                   Female              47\n",
      "                          Male                55\n",
      "Manufacturing Director    Female              72\n",
      "                          Male                73\n",
      "Research Director         Female              33\n",
      "                          Male                47\n",
      "Research Scientist        Female             114\n",
      "                          Male               178\n",
      "Sales Executive           Female             132\n",
      "                          Male               194\n",
      "Sales Representative      Female              38\n",
      "                          Male                45\n"
     ]
    }
   ],
   "source": [
    "# Group By in pandas\n",
    "# when we want to summarise the data\n",
    "df = pd.read_csv(\"/Users/rajan/github/shuPython/pandaLib/WA_Fn-UseC_-HR-Employee-Attrition.csv\")\n",
    "gp = df.groupby([\"Department\", \"Gender\"]).agg({\"EmployeeNumber\":\"count\"})\n",
    "print(gp)\n",
    "\n",
    "gp = df.groupby([\"JobRole\", \"Gender\"]).agg({\"EmployeeNumber\":\"count\"})\n",
    "print(gp)"
   ]
  },
  {
   "cell_type": "code",
   "execution_count": 50,
   "id": "3df8e3e6-2da8-4988-8e58-b0aeac3af166",
   "metadata": {},
   "outputs": [
    {
     "name": "stdout",
     "output_type": "stream",
     "text": [
      "                                        Age\n",
      "JobRole                   Gender           \n",
      "Healthcare Representative Female  38.901961\n",
      "                          Male    40.387500\n",
      "Human Resources           Female  34.437500\n",
      "                          Male    35.972222\n",
      "Laboratory Technician     Female  35.270588\n",
      "                          Male    33.522989\n",
      "Manager                   Female  47.680851\n",
      "                          Male    45.981818\n",
      "Manufacturing Director    Female  38.638889\n",
      "                          Male    37.958904\n",
      "Research Director         Female  41.909091\n",
      "                          Male    45.468085\n",
      "Research Scientist        Female  33.991228\n",
      "                          Male    34.393258\n",
      "Sales Executive           Female  37.833333\n",
      "                          Male    36.247423\n",
      "Sales Representative      Female  30.052632\n",
      "                          Male    30.622222\n"
     ]
    }
   ],
   "source": [
    "gp1 = df.groupby([\"JobRole\", \"Gender\"]).agg({\"Age\":\"mean\"})\n",
    "print(gp1)"
   ]
  },
  {
   "cell_type": "code",
   "execution_count": 57,
   "id": "49fed00d-0f22-4384-97d1-428b1057b48b",
   "metadata": {},
   "outputs": [
    {
     "name": "stdout",
     "output_type": "stream",
     "text": [
      "                               MonthlyIncome  Age\n",
      "Department             Gender                    \n",
      "Human Resources        Female    7264.000000   25\n",
      "                       Male      6371.023256   19\n",
      "Research & Development Female    6513.691293   18\n",
      "                       Male      6129.888316   18\n",
      "Sales                  Female    6972.126984   18\n",
      "                       Male      6949.645914   18\n"
     ]
    }
   ],
   "source": [
    "gp1 = df.groupby([\"Department\", \"Gender\"]).agg({\"MonthlyIncome\":\"mean\", \"Age\":\"min\"})\n",
    "print(gp1)"
   ]
  },
  {
   "cell_type": "code",
   "execution_count": 8,
   "id": "5c1ad38d-b06b-4e07-9f24-f543fa38c9cc",
   "metadata": {},
   "outputs": [
    {
     "name": "stdout",
     "output_type": "stream",
     "text": [
      "  Emp Id   Names  Age\n",
      "0    E01     Ram   34\n",
      "1    E02   Shyam   56\n",
      "2    E03   Rahul   23\n",
      "3    E04  Vishal   44\n",
      "4    E05    Ravi   32\n",
      "5    E06    John   36 \n",
      "   Emp Id  Salary\n",
      "0    E01   45000\n",
      "1    E07   56000\n",
      "2    E03   34000\n",
      "3    E04   30000\n",
      "4    E08   50000\n",
      "5    E06   62000\n"
     ]
    }
   ],
   "source": [
    "import pandas as pd\n",
    "df = pd.read_csv(\"/Users/rajan/github/shuPython/pandaLib/WA_Fn-UseC_-HR-Employee-Attrition.csv\")\n",
    "data = pd.read_csv(\"/Users/rajan/github/shuPython/pandaLib/customers.csv\")\n",
    "\n",
    "data1 = {\"Emp Id\":[\"E01\", \"E02\", \"E03\", \"E04\", \"E05\", \"E06\"],\n",
    "         \"Names\":[\"Ram\", \"Shyam\", \"Rahul\", \"Vishal\", \"Ravi\", \"John\"],\n",
    "         \"Age\":[34, 56, 23, 44, 32, 36]}\n",
    "\n",
    "data2 = {\"Emp Id\":[\"E01\", \"E07\", \"E03\", \"E04\", \"E08\", \"E06\"],\n",
    "         \"Salary\":[45000, 56000, 34000, 30000, 50000, 62000]}\n",
    "\n",
    "df1 = pd.DataFrame(data1)\n",
    "df2 = pd.DataFrame(data2)\n",
    "\n",
    "print(df1, \"\\n\", df2)"
   ]
  },
  {
   "cell_type": "code",
   "execution_count": 11,
   "id": "933a77ef-c00b-45f1-9869-94f02d97b7b1",
   "metadata": {},
   "outputs": [
    {
     "name": "stdout",
     "output_type": "stream",
     "text": [
      "  Emp Id   Names  Age  Salary\n",
      "0    E01     Ram   34   45000\n",
      "1    E03   Rahul   23   34000\n",
      "2    E04  Vishal   44   30000\n",
      "3    E06    John   36   62000\n"
     ]
    }
   ],
   "source": [
    "# merge, join and concatenate\n",
    "print(pd.merge(df1, df2, on=\"Emp Id\", how=\"inner\")) # by default how=\"inner\" join "
   ]
  },
  {
   "cell_type": "code",
   "execution_count": 10,
   "id": "abb377c3-7324-4445-aa04-f240db80564a",
   "metadata": {},
   "outputs": [
    {
     "name": "stdout",
     "output_type": "stream",
     "text": [
      "  Emp Id   Names   Age  Salary\n",
      "0    E01     Ram  34.0   45000\n",
      "1    E07     NaN   NaN   56000\n",
      "2    E03   Rahul  23.0   34000\n",
      "3    E04  Vishal  44.0   30000\n",
      "4    E08     NaN   NaN   50000\n",
      "5    E06    John  36.0   62000\n"
     ]
    }
   ],
   "source": [
    "print(pd.merge(left=df1, right=df2, on=\"Emp Id\", how=\"right\")) # by default how=\"inner\" join "
   ]
  },
  {
   "cell_type": "code",
   "execution_count": 12,
   "id": "f7c52ac0-bee9-4361-ad75-7b33000a21c1",
   "metadata": {},
   "outputs": [
    {
     "name": "stdout",
     "output_type": "stream",
     "text": [
      "  Emp Id   Names  Age   Salary\n",
      "0    E01     Ram   34  45000.0\n",
      "1    E02   Shyam   56      NaN\n",
      "2    E03   Rahul   23  34000.0\n",
      "3    E04  Vishal   44  30000.0\n",
      "4    E05    Ravi   32      NaN\n",
      "5    E06    John   36  62000.0\n"
     ]
    }
   ],
   "source": [
    "print(pd.merge(df1, df2, on=\"Emp Id\", how=\"left\")) # by default how=\"inner\" join "
   ]
  },
  {
   "cell_type": "code",
   "execution_count": 20,
   "id": "10ab5d6e-ab8e-494e-8e04-ee2eb917810d",
   "metadata": {},
   "outputs": [],
   "source": [
    "# print(df.join(df1, df2, on=\"Emp Id\", how=\"left\"))"
   ]
  },
  {
   "cell_type": "code",
   "execution_count": 21,
   "id": "16cdc0ee-a380-41d6-aebb-bb27d7845dd0",
   "metadata": {},
   "outputs": [],
   "source": [
    "data1 = {\"Emp Id\":[\"E01\", \"E02\", \"E03\", \"E04\", \"E05\", \"E06\"],\n",
    "         \"Names\":[\"Ram\", \"Shyam\", \"Rahul\", \"Vishal\", \"Ravi\", \"John\"],\n",
    "         \"Age\":[34, 56, 23, 44, 32, 36]}\n",
    "\n",
    "data2 = {\"Emp Id\":[\"E07\", \"E08\", \"E09\", \"E010\", \"E011\", \"E012\"],\n",
    "         \"Names\":[\"bittu\", \"chintu\", \"pappu\", \"chotu\", \"bunty\", \"golu\"],\n",
    "         \"Age\":[34, 56, 23, 44, 32, 36]}\n",
    "\n",
    "df1 = pd.DataFrame(data1)\n",
    "df2 = pd.DataFrame(data2)"
   ]
  },
  {
   "cell_type": "code",
   "execution_count": 22,
   "id": "28e5998e-9e82-4a67-958e-1cd1743436f4",
   "metadata": {},
   "outputs": [
    {
     "name": "stdout",
     "output_type": "stream",
     "text": [
      "  Emp Id   Names  Age\n",
      "0    E01     Ram   34\n",
      "1    E02   Shyam   56\n",
      "2    E03   Rahul   23\n",
      "3    E04  Vishal   44\n",
      "4    E05    Ravi   32\n",
      "5    E06    John   36\n",
      "0    E07   bittu   34\n",
      "1    E08  chintu   56\n",
      "2    E09   pappu   23\n",
      "3   E010   chotu   44\n",
      "4   E011   bunty   32\n",
      "5   E012    golu   36\n"
     ]
    }
   ],
   "source": [
    "print(pd.concat([df1, df2]))"
   ]
  },
  {
   "cell_type": "code",
   "execution_count": null,
   "id": "1f4cf398-d70a-4bcc-8b38-3285347c31d4",
   "metadata": {},
   "outputs": [],
   "source": []
  }
 ],
 "metadata": {
  "kernelspec": {
   "display_name": "Python [conda env:base] *",
   "language": "python",
   "name": "conda-base-py"
  },
  "language_info": {
   "codemirror_mode": {
    "name": "ipython",
    "version": 3
   },
   "file_extension": ".py",
   "mimetype": "text/x-python",
   "name": "python",
   "nbconvert_exporter": "python",
   "pygments_lexer": "ipython3",
   "version": "3.13.5"
  }
 },
 "nbformat": 4,
 "nbformat_minor": 5
}
