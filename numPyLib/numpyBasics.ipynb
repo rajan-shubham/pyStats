{
 "cells": [
  {
   "cell_type": "code",
   "execution_count": 2,
   "id": "6aaccbae-f95b-412f-833f-79da60256497",
   "metadata": {},
   "outputs": [],
   "source": [
    "import numpy as np"
   ]
  },
  {
   "cell_type": "code",
   "execution_count": 8,
   "id": "19df2882-5d64-42f9-a133-5ae0f3d87ff9",
   "metadata": {},
   "outputs": [
    {
     "name": "stdout",
     "output_type": "stream",
     "text": [
      "[10 20 30]\n",
      "[ 5 15 25]\n",
      "[5 5 5]\n"
     ]
    }
   ],
   "source": [
    "a = np.array([10, 20, 30])\n",
    "b = np.array([5, 15, 25])\n",
    "print(a)\n",
    "print(b)\n",
    "print(a-b)"
   ]
  },
  {
   "cell_type": "code",
   "execution_count": 11,
   "id": "fd0a0d8d-c4e6-4664-8c6b-25200fe84ec3",
   "metadata": {},
   "outputs": [
    {
     "name": "stdout",
     "output_type": "stream",
     "text": [
      "[3, 4, 5]\n",
      "[3 4 5]\n",
      "<class 'numpy.ndarray'>\n"
     ]
    }
   ],
   "source": [
    "lst = [3,4,5]\n",
    "newArr = np.array(lst)\n",
    "print(lst)\n",
    "print(newArr)\n",
    "print(type(newArr))"
   ]
  },
  {
   "cell_type": "code",
   "execution_count": 16,
   "id": "e5994951-854f-4882-bbd1-b32f9f4ef5c2",
   "metadata": {},
   "outputs": [
    {
     "name": "stdout",
     "output_type": "stream",
     "text": [
      "[[10 20 30 40]\n",
      " [50 60 70 80]\n",
      " [ 5 15 25 35]]\n",
      "<class 'numpy.ndarray'>\n"
     ]
    }
   ],
   "source": [
    "arr = np.array([[10,20,30,40], [50,60,70,80], [5,15,25,35]])\n",
    "print(arr)\n",
    "print(type(arr))"
   ]
  },
  {
   "cell_type": "code",
   "execution_count": 24,
   "id": "dbd2ab7d-1fb8-428c-ab54-7a042144ded0",
   "metadata": {},
   "outputs": [
    {
     "name": "stdout",
     "output_type": "stream",
     "text": [
      "[10 20 30]\n"
     ]
    }
   ],
   "source": [
    "# slicing of array arr[0:3]\n",
    "# means from 0th index to (3-1)nd index\n",
    "arr = np.array([10,20,30,40])\n",
    "print(arr[0:3])"
   ]
  },
  {
   "cell_type": "code",
   "execution_count": 56,
   "id": "c0e37ac0-c2b8-4b32-8b82-798aadfd7e1d",
   "metadata": {},
   "outputs": [
    {
     "name": "stdout",
     "output_type": "stream",
     "text": [
      "[[10 20 30]\n",
      " [50 60 70]]\n",
      "[[20 30]]\n",
      "[20 30]\n"
     ]
    }
   ],
   "source": [
    "arr = np.array([[10,20,30,40], [50,60,70,80], [5,15,25,35]])\n",
    "print(arr[0:2,0:3]) # 0and1 row, 0,1,2 column in each row --> matrix\n",
    "print(arr[0:1,1:3]) # matrix\n",
    "print(arr[0,1:3]) # array"
   ]
  },
  {
   "cell_type": "code",
   "execution_count": 49,
   "id": "3da6b024-5e19-424f-8822-289f896d1bb1",
   "metadata": {},
   "outputs": [
    {
     "name": "stdout",
     "output_type": "stream",
     "text": [
      "(3, 4)\n",
      "12\n",
      "2\n",
      "int64\n"
     ]
    }
   ],
   "source": [
    "# attributes of np array\n",
    "print(np.shape(arr)) # dimension of matrix array\n",
    "print(np.size(arr)) # total no. of elements in matrix array\n",
    "print(np.ndim(arr)) # no. of dimension of array\n",
    "print(arr.dtype) # data type of element of matrix array"
   ]
  },
  {
   "cell_type": "code",
   "execution_count": 50,
   "id": "401043ae-c42a-45f8-9ca3-0fcedd064d06",
   "metadata": {},
   "outputs": [
    {
     "name": "stdout",
     "output_type": "stream",
     "text": [
      "20\n"
     ]
    }
   ],
   "source": [
    "print(arr[0][1]) # accessing the element of matrix array by indexing"
   ]
  },
  {
   "cell_type": "code",
   "execution_count": 57,
   "id": "8eb0c7a9-2f99-45b0-a311-20bed12e07de",
   "metadata": {},
   "outputs": [
    {
     "name": "stdout",
     "output_type": "stream",
     "text": [
      "[[30 40]\n",
      " [60 70]]\n",
      "(2, 2)\n",
      "3\n",
      "<class 'numpy.ndarray'>\n",
      "int64\n",
      "[[10. 20. 30. 40.]\n",
      " [50. 60. 70. 80.]\n",
      " [ 5. 15. 25. 35.]]\n"
     ]
    }
   ],
   "source": [
    "# (inspection of array) numpy functions\n",
    "a = [[30,40],[60,70]]\n",
    "arr1 = np.array(a)\n",
    "print(arr1)\n",
    "print(arr1.shape) # dimension of array (rows, columns)\n",
    "print(len(arr)) # no. of elem in an array\n",
    "print(type(arr)) # data type of variable\n",
    "print(arr.dtype) # data type of array\n",
    "print(arr.astype(float)) # conversion of datatype"
   ]
  },
  {
   "cell_type": "code",
   "execution_count": 59,
   "id": "8958acdf-4a75-45ae-a5c1-229baff05f52",
   "metadata": {},
   "outputs": [
    {
     "name": "stdout",
     "output_type": "stream",
     "text": [
      "[32 44 55 26 19]\n",
      "[32 44 55 26 19]\n"
     ]
    }
   ],
   "source": [
    "# Mathematical operations\n",
    "a = np.array([30,40,50, 20, 10])\n",
    "b = np.array([2, 4, 5, 6, 9])\n",
    "print(a+b)\n",
    "print(np.add(a,b))"
   ]
  },
  {
   "cell_type": "code",
   "execution_count": 64,
   "id": "855ee6a5-df80-4289-bbf0-b26179a1b449",
   "metadata": {},
   "outputs": [
    {
     "name": "stdout",
     "output_type": "stream",
     "text": [
      "[[28 36 45]\n",
      " [14  1 -1]]\n",
      "[[28 38 48]\n",
      " [18  8  5]]\n",
      "[[15.         10.         10.        ]\n",
      " [ 3.33333333  1.11111111  0.875     ]]\n"
     ]
    }
   ],
   "source": [
    "a = np.array([[30,40,50], [20, 10, 7]])\n",
    "b = np.array([[2, 4, 5], [6, 9, 8]])\n",
    "print(a-b)\n",
    "print(a-2)\n",
    "print(np.divide(a,b))"
   ]
  },
  {
   "cell_type": "code",
   "execution_count": 66,
   "id": "16295a5f-0017-430b-9eb0-28a50688bd5d",
   "metadata": {},
   "outputs": [
    {
     "name": "stdout",
     "output_type": "stream",
     "text": [
      "[ 9 16  4  1]\n"
     ]
    }
   ],
   "source": [
    "a = np.array([3,4,2,1])\n",
    "b = np.array([2])\n",
    "print(np.power(a, b))"
   ]
  },
  {
   "cell_type": "code",
   "execution_count": 69,
   "id": "cd6572ab-de62-456d-aa6a-beafe2cfed90",
   "metadata": {},
   "outputs": [
    {
     "name": "stdout",
     "output_type": "stream",
     "text": [
      "[3. 4. 2. 1.]\n",
      "[3 4 2 1]\n"
     ]
    }
   ],
   "source": [
    "a = np.array([9, 16, 4, 1])\n",
    "print(np.sqrt(a)) # gives float array\n",
    "print(np.sqrt(a).astype(int)) # convert to int array"
   ]
  },
  {
   "cell_type": "code",
   "execution_count": 4,
   "id": "be1aa719-3730-48db-99e2-78e6373fce51",
   "metadata": {},
   "outputs": [
    {
     "name": "stdout",
     "output_type": "stream",
     "text": [
      "[2, 4, 89, 98, 3, 5, 2, 0]\n"
     ]
    }
   ],
   "source": [
    "a = [2,4,89,98]\n",
    "b = [3,5,2,0]\n",
    "print(a+b) # list concatanition happen"
   ]
  },
  {
   "cell_type": "code",
   "execution_count": 8,
   "id": "2012f52c-af3e-49de-a99a-ffa2bea92060",
   "metadata": {},
   "outputs": [
    {
     "name": "stdout",
     "output_type": "stream",
     "text": [
      "[ 2  4 89 98  3  5  2  0]\n"
     ]
    }
   ],
   "source": [
    "# concatenate array by np\n",
    "print(np.concatenate([a,b]))"
   ]
  },
  {
   "cell_type": "code",
   "execution_count": 17,
   "id": "145aff15-0707-4419-b8c8-b2e3e989c8a9",
   "metadata": {},
   "outputs": [
    {
     "name": "stdout",
     "output_type": "stream",
     "text": [
      "[[30 40 50]\n",
      " [20 10  7]\n",
      " [ 2  4  5]\n",
      " [ 6  9  8]]\n",
      "[[30 40 50  2  4  5]\n",
      " [20 10  7  6  9  8]]\n",
      "[[30 40 50  2  4  5]\n",
      " [20 10  7  6  9  8]]\n",
      "[[30 40 50]\n",
      " [20 10  7]\n",
      " [ 2  4  5]\n",
      " [ 6  9  8]]\n"
     ]
    }
   ],
   "source": [
    "a = np.array([[30,40,50], [20, 10, 7]])\n",
    "b = np.array([[2, 4, 5], [6, 9, 8]])\n",
    "print(np.concatenate([a,b], axis=0)) # concatenation\n",
    "print(np.concatenate([a,b], axis=1)) # concatenation\n",
    "print(np.hstack([a,b])) # horizontal concatenation\n",
    "print(np.vstack([a,b])) # vertical concatenation"
   ]
  },
  {
   "cell_type": "code",
   "execution_count": 21,
   "id": "bc4cd131-fabb-410c-a120-675f9374f6ed",
   "metadata": {},
   "outputs": [
    {
     "name": "stdout",
     "output_type": "stream",
     "text": [
      "[array([2, 3]), array([4, 5]), array([6])]\n",
      "[4 5]\n",
      "4\n"
     ]
    }
   ],
   "source": [
    "# split array\n",
    "arr = np.array([2,3,4,5,6])\n",
    "brr = np.array_split(arr,3)\n",
    "print(brr) # array of array (splitted array)\n",
    "print(brr[1])\n",
    "print(brr[1][0])"
   ]
  },
  {
   "cell_type": "code",
   "execution_count": 32,
   "id": "3e7bc57d-15bc-484d-a4da-f5e24fab54d2",
   "metadata": {},
   "outputs": [
    {
     "name": "stdout",
     "output_type": "stream",
     "text": [
      "[ 30  40  50  20  10   7  90 100]\n",
      "[2 3 4 5 6 9]\n",
      "[    2 10000     3     4     5     6]\n",
      "[[1000 1000 1000]\n",
      " [  30   40   50]\n",
      " [  20   10    7]\n",
      " [1000 1000 1000]]\n"
     ]
    }
   ],
   "source": [
    "# functions append, insert, delete\n",
    "print(np.append(a, [90,100])) # make 1d array from 2d array\n",
    "print(np.append(arr, 9))\n",
    "\n",
    "print(np.insert(arr, 1, 10000)) # array, index,  value\n",
    "print(np.insert(a, [0,2], [1000], axis=0))"
   ]
  },
  {
   "cell_type": "code",
   "execution_count": null,
   "id": "c81a505c-afe5-4183-a362-70969d23c149",
   "metadata": {},
   "outputs": [],
   "source": []
  }
 ],
 "metadata": {
  "kernelspec": {
   "display_name": "Python [conda env:base] *",
   "language": "python",
   "name": "conda-base-py"
  },
  "language_info": {
   "codemirror_mode": {
    "name": "ipython",
    "version": 3
   },
   "file_extension": ".py",
   "mimetype": "text/x-python",
   "name": "python",
   "nbconvert_exporter": "python",
   "pygments_lexer": "ipython3",
   "version": "3.13.5"
  }
 },
 "nbformat": 4,
 "nbformat_minor": 5
}
